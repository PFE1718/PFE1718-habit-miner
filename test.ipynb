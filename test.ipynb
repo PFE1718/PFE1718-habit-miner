{
 "cells": [
  {
   "cell_type": "code",
   "execution_count": null,
   "metadata": {
    "collapsed": true
   },
   "outputs": [],
   "source": [
    "import json\n",
    "import random\n",
    "import csv\n",
    "import numpy as np\n",
    "\n",
    "from sklearn.cluster import DBSCAN, AffinityPropagation\n",
    "from sklearn.preprocessing import StandardScaler\n",
    "from random import randrange\n",
    "from datetime import datetime, timedelta, time\n",
    "from dateutil import parser\n",
    "from statistics import mean\n",
    "\n",
    "import matplotlib.pyplot as plt\n",
    "import matplotlib\n",
    "\n",
    "habits_file_path = \"/opt/mycroft/habits/habits.json\"\n",
    "habits_path = \"/opt/mycroft/habits/habits.json\"\n",
    "logs_path = \"/opt/mycroft/habits/logs.json\"\n",
    "nb_clusters = 0\n",
    "\n",
    "from adapt.intent import IntentBuilder\n",
    "from mycroft.skills.core import MycroftSkill\n",
    "from mycroft.skills.core import intent_handler\n",
    "from mycroft.skills.context import adds_context, removes_context\n",
    "from mycroft.util.log import getLogger, LOG"
   ]
  }
 ],
 "metadata": {
  "kernelspec": {
   "display_name": "Python 2",
   "language": "python",
   "name": "python2"
  },
  "language_info": {
   "codemirror_mode": {
    "name": "ipython",
    "version": 2
   },
   "file_extension": ".py",
   "mimetype": "text/x-python",
   "name": "python",
   "nbconvert_exporter": "python",
   "pygments_lexer": "ipython2",
   "version": "2.7.6"
  }
 },
 "nbformat": 4,
 "nbformat_minor": 0
}
